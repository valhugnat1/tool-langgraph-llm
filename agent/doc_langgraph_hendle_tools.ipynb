{
 "cells": [
  {
   "cell_type": "code",
   "execution_count": 1,
   "metadata": {},
   "outputs": [],
   "source": [
    "%%capture --no-stderr\n",
    "%pip install --quiet -U langgraph langchain_openai numpy"
   ]
  },
  {
   "cell_type": "code",
   "execution_count": 2,
   "metadata": {},
   "outputs": [],
   "source": [
    "import getpass\n",
    "import os\n",
    "\n",
    "\n",
    "def _set_env(var: str):\n",
    "    if not os.environ.get(var):\n",
    "        os.environ[var] = getpass.getpass(f\"{var}: \")\n",
    "\n",
    "\n",
    "_set_env(\"OPENAI_API_KEY\")"
   ]
  },
  {
   "cell_type": "code",
   "execution_count": 3,
   "metadata": {},
   "outputs": [],
   "source": [
    "import re\n",
    "import uuid\n",
    "\n",
    "from langchain_core.tools import StructuredTool\n",
    "\n",
    "\n",
    "def create_tool(company: str) -> dict:\n",
    "    \"\"\"Create schema for a placeholder tool.\"\"\"\n",
    "    formatted_company = re.sub(r\"[^\\w\\s]\", \"\", company).replace(\" \", \"_\")\n",
    "\n",
    "    def company_tool(year: int) -> str:\n",
    "        return f\"{company} had revenues of $100 in {year}.\"\n",
    "\n",
    "    return StructuredTool.from_function(\n",
    "        company_tool,\n",
    "        name=formatted_company,\n",
    "        description=f\"Information about {company}\",\n",
    "    )\n",
    "\n",
    "\n",
    "s_and_p_500_companies = [  # Abbreviated list for demonstration purposes\n",
    "    \"3M\",\n",
    "    \"A.O. Smith\",\n",
    "    \"Abbott\",\n",
    "    \"Accenture\",\n",
    "    \"Advanced Micro Devices\",\n",
    "    \"Yum! Brands\",\n",
    "    \"Zebra Technologies\",\n",
    "    \"Zimmer Biomet\",\n",
    "    \"Zoetis\",\n",
    "]\n",
    "\n",
    "tool_registry = {\n",
    "    str(uuid.uuid4()): create_tool(company) for company in s_and_p_500_companies\n",
    "}"
   ]
  },
  {
   "cell_type": "code",
   "execution_count": 13,
   "metadata": {},
   "outputs": [
    {
     "data": {
      "text/plain": [
       "{'d3b5c733-d62e-4b65-9e37-31adb32b3a86': StructuredTool(name='3M', description='Information about 3M', args_schema=<class 'pydantic.v1.main.3MSchema'>, func=<function create_tool.<locals>.company_tool at 0x780f085ee3e0>),\n",
       " '66a6bcbc-5e04-4385-a6a5-3a09fb1f3a26': StructuredTool(name='AO_Smith', description='Information about A.O. Smith', args_schema=<class 'pydantic.v1.main.AO_SmithSchema'>, func=<function create_tool.<locals>.company_tool at 0x780ef7f96200>),\n",
       " 'e3a2df4d-0efc-40ad-aa1a-efecbcd6560c': StructuredTool(name='Abbott', description='Information about Abbott', args_schema=<class 'pydantic.v1.main.AbbottSchema'>, func=<function create_tool.<locals>.company_tool at 0x780ef7744f40>),\n",
       " '021f8dac-01aa-44e1-bc88-41464d6ebf7d': StructuredTool(name='Accenture', description='Information about Accenture', args_schema=<class 'pydantic.v1.main.AccentureSchema'>, func=<function create_tool.<locals>.company_tool at 0x780ef7745940>),\n",
       " '15ae763d-3d86-4741-924a-4ca3d2cb380e': StructuredTool(name='Advanced_Micro_Devices', description='Information about Advanced Micro Devices', args_schema=<class 'pydantic.v1.main.Advanced_Micro_DevicesSchema'>, func=<function create_tool.<locals>.company_tool at 0x780ef7746340>),\n",
       " '1b0a1907-e7a8-41db-8796-f28e1cdbbc67': StructuredTool(name='Yum_Brands', description='Information about Yum! Brands', args_schema=<class 'pydantic.v1.main.Yum_BrandsSchema'>, func=<function create_tool.<locals>.company_tool at 0x780ef7745da0>),\n",
       " '006369cf-1e6c-4b52-ad16-9c9d69ea2591': StructuredTool(name='Zebra_Technologies', description='Information about Zebra Technologies', args_schema=<class 'pydantic.v1.main.Zebra_TechnologiesSchema'>, func=<function create_tool.<locals>.company_tool at 0x780ef7746160>),\n",
       " '54c92464-93cd-436f-881f-e5d165de28d2': StructuredTool(name='Zimmer_Biomet', description='Information about Zimmer Biomet', args_schema=<class 'pydantic.v1.main.Zimmer_BiometSchema'>, func=<function create_tool.<locals>.company_tool at 0x780ef7745300>),\n",
       " 'd3c30e1c-b0a9-4ee4-bd05-943d9cb6c5ef': StructuredTool(name='Zoetis', description='Information about Zoetis', args_schema=<class 'pydantic.v1.main.ZoetisSchema'>, func=<function create_tool.<locals>.company_tool at 0x780ef7747060>)}"
      ]
     },
     "execution_count": 13,
     "metadata": {},
     "output_type": "execute_result"
    }
   ],
   "source": [
    "tool_registry"
   ]
  },
  {
   "cell_type": "code",
   "execution_count": 4,
   "metadata": {},
   "outputs": [],
   "source": [
    "from langchain_core.documents import Document\n",
    "from langchain_core.vectorstores import InMemoryVectorStore, VectorStore\n",
    "from langchain_openai import OpenAIEmbeddings\n",
    "\n",
    "tool_documents = [\n",
    "    Document(\n",
    "        page_content=tool.description,\n",
    "        id=id,\n",
    "        metadata={\"tool_name\": tool.name},\n",
    "    )\n",
    "    for id, tool in tool_registry.items()\n",
    "]\n",
    "\n",
    "vector_store = InMemoryVectorStore(embedding=OpenAIEmbeddings())\n",
    "document_ids = vector_store.add_documents(tool_documents)"
   ]
  },
  {
   "cell_type": "code",
   "execution_count": 30,
   "metadata": {},
   "outputs": [],
   "source": [
    "from typing import Annotated\n",
    "\n",
    "from langchain_openai import ChatOpenAI\n",
    "from typing_extensions import TypedDict\n",
    "\n",
    "from langgraph.graph import StateGraph, START, END\n",
    "from langgraph.graph.message import add_messages\n",
    "from langgraph.prebuilt import ToolNode, tools_condition\n",
    "\n",
    "\n",
    "class State(TypedDict):\n",
    "    messages: Annotated[list, add_messages]\n",
    "    selected_tools: list[str]\n",
    "\n",
    "\n",
    "graph_builder = StateGraph(State)\n",
    "\n",
    "tools = list(tool_registry.values())\n",
    "llm = ChatOpenAI()\n",
    "\n",
    "\n",
    "def agent(state: State):\n",
    "    selected_tools = [tool_registry[id] for id in state[\"selected_tools\"]]\n",
    "    llm_with_tools = llm.bind_tools(selected_tools)\n",
    "    return {\"messages\": [llm_with_tools.invoke(state[\"messages\"])]}\n",
    "\n",
    "\n",
    "def select_tools(state: State):\n",
    "    last_user_message = state[\"messages\"][-1]\n",
    "    query = last_user_message.content\n",
    "    print (query)\n",
    "    tool_documents = vector_store.similarity_search(query)\n",
    "    print (\"tool_documents: \", tool_documents)\n",
    "    return {\"selected_tools\": [document.id for document in tool_documents]}\n",
    "\n",
    "\n",
    "graph_builder.add_node(\"agent\", agent)\n",
    "graph_builder.add_node(\"select_tools\", select_tools)\n",
    "\n",
    "tool_node = ToolNode(tools=tools)\n",
    "graph_builder.add_node(\"tools\", tool_node)\n",
    "\n",
    "graph_builder.add_conditional_edges(\n",
    "    \"agent\",\n",
    "    tools_condition,\n",
    ")\n",
    "graph_builder.add_edge(\"tools\", \"agent\")\n",
    "graph_builder.add_edge(\"select_tools\", \"agent\")\n",
    "graph_builder.add_edge(START, \"select_tools\")\n",
    "graph = graph_builder.compile()"
   ]
  },
  {
   "cell_type": "code",
   "execution_count": 31,
   "metadata": {},
   "outputs": [
    {
     "data": {
      "image/jpeg": "[encoded data removed]",
      "text/plain": [
       "<IPython.core.display.Image object>"
      ]
     },
     "metadata": {},
     "output_type": "display_data"
    }
   ],
   "source": [
    "from IPython.display import Image, display\n",
    "\n",
    "try:\n",
    "    display(Image(graph.get_graph().draw_mermaid_png()))\n",
    "except Exception:\n",
    "    # This requires some extra dependencies and is optional\n",
    "    pass"
   ]
  },
  {
   "cell_type": "code",
   "execution_count": 32,
   "metadata": {},
   "outputs": [
    {
     "name": "stdout",
     "output_type": "stream",
     "text": [
      "How are you?\n",
      "tool_documents:  [Document(id='e3a2df4d-0efc-40ad-aa1a-efecbcd6560c', metadata={'tool_name': 'Abbott'}, page_content='Information about Abbott'), Document(id='d3b5c733-d62e-4b65-9e37-31adb32b3a86', metadata={'tool_name': '3M'}, page_content='Information about 3M'), Document(id='1b0a1907-e7a8-41db-8796-f28e1cdbbc67', metadata={'tool_name': 'Yum_Brands'}, page_content='Information about Yum! Brands'), Document(id='66a6bcbc-5e04-4385-a6a5-3a09fb1f3a26', metadata={'tool_name': 'AO_Smith'}, page_content='Information about A.O. Smith')]\n",
      "================================\u001b[1m Human Message \u001b[0m=================================\n",
      "\n",
      "How are you?\n",
      "==================================\u001b[1m Ai Message \u001b[0m==================================\n",
      "\n",
      "I'm here and ready to assist you with any questions or tasks you have. How can I help you today?\n"
     ]
    }
   ],
   "source": [
    "# user_input = \"Can you give me some information about AMD in 2022?\"\n",
    "user_input = \"How are you?\"\n",
    "\n",
    "result = graph.invoke({\"messages\": [(\"user\", user_input)]})\n",
    "for message in result[\"messages\"]:\n",
    "    message.pretty_print()"
   ]
  },
  {
   "cell_type": "code",
   "execution_count": 20,
   "metadata": {},
   "outputs": [
    {
     "ename": "NameError",
     "evalue": "name 'state' is not defined",
     "output_type": "error",
     "traceback": [
      "\u001b[0;31m---------------------------------------------------------------------------\u001b[0m",
      "\u001b[0;31mNameError\u001b[0m                                 Traceback (most recent call last)",
      "Cell \u001b[0;32mIn[20], line 1\u001b[0m\n\u001b[0;32m----> 1\u001b[0m [tool_registry[\u001b[38;5;28mid\u001b[39m] \u001b[38;5;28;01mfor\u001b[39;00m \u001b[38;5;28mid\u001b[39m \u001b[38;5;129;01min\u001b[39;00m \u001b[43mstate\u001b[49m[\u001b[38;5;124m\"\u001b[39m\u001b[38;5;124mselected_tools\u001b[39m\u001b[38;5;124m\"\u001b[39m]]\n",
      "\u001b[0;31mNameError\u001b[0m: name 'state' is not defined"
     ]
    }
   ],
   "source": [
    "\n",
    "[tool_registry[id] for id in state[\"selected_tools\"]]"
   ]
  },
  {
   "cell_type": "code",
   "execution_count": null,
   "metadata": {},
   "outputs": [],
   "source": []
  },
  {
   "cell_type": "code",
   "execution_count": 14,
   "metadata": {},
   "outputs": [],
   "source": [
    "from langchain_core.messages import HumanMessage, SystemMessage, ToolMessage\n",
    "from langgraph.pregel.retry import RetryPolicy\n",
    "\n",
    "# NOTE:\n",
    "# - if you're using langchain-core >= 0.3, you need to use pydantic v2\n",
    "# - if you're using langchain-core >= 0.2,<0.3, you need to use pydantic v1\n",
    "from langchain_core import __version__ as core_version\n",
    "from packaging import version\n",
    "\n",
    "core_version = version.parse(core_version)\n",
    "if (core_version.major, core_version.minor) < (0, 3):\n",
    "    from pydantic.v1 import BaseModel, Field\n",
    "else:\n",
    "    from pydantic import BaseModel, Field\n",
    "\n",
    "\n",
    "class QueryForTools(BaseModel):\n",
    "    \"\"\"Generate a query for additional tools.\"\"\"\n",
    "\n",
    "    query: str = Field(..., description=\"Query for additional tools.\")\n",
    "\n",
    "\n",
    "def select_tools(state: State):\n",
    "    last_message = state[\"messages\"][-1]\n",
    "    hack_remove_tool_condition = False\n",
    "    if isinstance(last_message, HumanMessage):\n",
    "        query = last_message.content\n",
    "        hack_remove_tool_condition = True\n",
    "    else:\n",
    "        assert isinstance(last_message, ToolMessage)\n",
    "        system = SystemMessage(\n",
    "            \"Given this conversation, generate a query for additional tools. \"\n",
    "            \"The query should be a short string containing what type of information \"\n",
    "            \"is needed. If no further information is needed, \"\n",
    "            \"set more_information_needed False and populate a blank string for the query.\"\n",
    "        )\n",
    "        input_messages = [system] + state[\"messages\"]\n",
    "        response = llm.bind_tools([QueryForTools], tool_choice=True).invoke(\n",
    "            input_messages\n",
    "        )\n",
    "        query = response.tool_calls[0][\"args\"][\"query\"]\n",
    "    tool_documents = vector_store.similarity_search(query)\n",
    "    if hack_remove_tool_condition:\n",
    "        # Remove needed tool\n",
    "        selected_tools = [\n",
    "            document.id\n",
    "            for document in tool_documents\n",
    "            if document.metadata[\"tool_name\"] != \"Advanced_Micro_Devices\"\n",
    "        ]\n",
    "    else:\n",
    "        selected_tools = [document.id for document in tool_documents]\n",
    "    return {\"selected_tools\": selected_tools}\n",
    "\n",
    "\n",
    "graph_builder = StateGraph(State)\n",
    "graph_builder.add_node(\"agent\", agent)\n",
    "graph_builder.add_node(\"select_tools\", select_tools, retry=RetryPolicy(max_attempts=3))\n",
    "\n",
    "tool_node = ToolNode(tools=tools)\n",
    "graph_builder.add_node(\"tools\", tool_node)\n",
    "\n",
    "graph_builder.add_conditional_edges(\n",
    "    \"agent\",\n",
    "    tools_condition,\n",
    ")\n",
    "graph_builder.add_edge(\"tools\", \"select_tools\")\n",
    "graph_builder.add_edge(\"select_tools\", \"agent\")\n",
    "graph_builder.add_edge(START, \"select_tools\")\n",
    "graph = graph_builder.compile()"
   ]
  },
  {
   "cell_type": "code",
   "execution_count": 15,
   "metadata": {},
   "outputs": [
    {
     "data": {
      "image/jpeg": "[encoded data removed]",
      "text/plain": [
       "<IPython.core.display.Image object>"
      ]
     },
     "metadata": {},
     "output_type": "display_data"
    }
   ],
   "source": [
    "from IPython.display import Image, display\n",
    "\n",
    "try:\n",
    "    display(Image(graph.get_graph().draw_mermaid_png()))\n",
    "except Exception:\n",
    "    # This requires some extra dependencies and is optional\n",
    "    pass"
   ]
  },
  {
   "cell_type": "code",
   "execution_count": 19,
   "metadata": {},
   "outputs": [
    {
     "name": "stdout",
     "output_type": "stream",
     "text": [
      "================================\u001b[1m Human Message \u001b[0m=================================\n",
      "\n",
      "Tell me a story\n",
      "==================================\u001b[1m Ai Message \u001b[0m==================================\n",
      "\n",
      "Once upon a time, in a small village nestled between lush green mountains, there lived a young boy named Leo. Leo was known for his kindness and curiosity. He would spend his days exploring the forests, discovering new plants and animals, and helping the villagers with their daily tasks.\n",
      "\n",
      "One day, while wandering deep into the forest, Leo stumbled upon a hidden cave. Intrigued, he entered the cave and found a mysterious old book lying on a stone pedestal. The book was filled with ancient symbols and writings that Leo could not understand.\n",
      "\n",
      "Determined to unravel the secrets of the book, Leo sought the help of the village elder, a wise man named Master Wu. Master Wu studied the book carefully and revealed that it held the key to unlocking a magical portal that could transport them to a distant land filled with wonders and challenges.\n",
      "\n",
      "Excited by the prospect of adventure, Leo and Master Wu embarked on a journey to activate the portal. Along the way, they encountered mythical creatures, solved riddles, and faced obstacles that tested their courage and wisdom.\n",
      "\n",
      "After overcoming numerous trials, Leo and Master Wu finally reached the portal and activated it using the knowledge from the ancient book. As they stepped through the shimmering gateway, they found themselves in a breathtaking realm unlike anything they had ever seen.\n",
      "\n",
      "In this new land, they discovered hidden treasures, met friendly inhabitants, and learned valuable lessons about friendship, perseverance, and the power of knowledge. Together, Leo and Master Wu explored the wonders of the magical land, leaving a trail of kindness and inspiration wherever they went.\n",
      "\n",
      "And so, the story of Leo and Master Wu's extraordinary journey became a legend in the village, inspiring future generations to embrace curiosity, courage, and the magic that lies beyond the ordinary.\n",
      "\n",
      "The end.\n"
     ]
    }
   ],
   "source": [
    "user_input = \"Tell me a story\"\n",
    "# user_input = \"Can you give me some information about AMD in 2022?\"\n",
    "\n",
    "result = graph.invoke({\"messages\": [(\"user\", user_input)]})\n",
    "\n",
    "for message in result[\"messages\"]:\n",
    "    message.pretty_print()"
   ]
  },
  {
   "cell_type": "code",
   "execution_count": null,
   "metadata": {},
   "outputs": [],
   "source": []
  }
 ],
 "metadata": {
  "kernelspec": {
   "display_name": "scw_rag",
   "language": "python",
   "name": "python3"
  },
  "language_info": {
   "codemirror_mode": {
    "name": "ipython",
    "version": 3
   },
   "file_extension": ".py",
   "mimetype": "text/x-python",
   "name": "python",
   "nbconvert_exporter": "python",
   "pygments_lexer": "ipython3",
   "version": "3.12.4"
  }
 },
 "nbformat": 4,
 "nbformat_minor": 2
}
