{
 "cells": [
  {
   "cell_type": "code",
   "execution_count": 2,
   "metadata": {},
   "outputs": [],
   "source": [
    "# rag.py file\n",
    "\n",
    "from dotenv import load_dotenv\n",
    "import psycopg2\n",
    "import os\n",
    "\n",
    "# Load environment variables\n",
    "load_dotenv()\n",
    "\n",
    "# Establish connection to PostgreSQL database using environment variables\n",
    "conn = psycopg2.connect(\n",
    "    database=os.getenv(\"PGDATABASE\"),\n",
    "    user=os.getenv(\"PGUSER\"),\n",
    "    password=os.getenv(\"PGPASSWORD\"),\n",
    "    host=os.getenv(\"PGHOST\"),\n",
    "    port=os.getenv(\"PGPORT\"),\n",
    ")\n",
    "\n",
    "\n",
    "# Create a cursor to execute SQL commands\n",
    "cur = conn.cursor()"
   ]
  },
  {
   "cell_type": "code",
   "execution_count": 3,
   "metadata": {},
   "outputs": [
    {
     "name": "stdout",
     "output_type": "stream",
     "text": [
      "{'status': 'healthy', 'database': 'connected'}\n"
     ]
    }
   ],
   "source": [
    "try:\n",
    "    with conn.cursor() as cur:\n",
    "        cur.execute(\"SELECT 1\")\n",
    "    print({\"status\": \"healthy\", \"database\": \"connected\"})\n",
    "except Exception as e:\n",
    "    print({\"status\": \"unhealthy\", \"database\": str(e)})\n"
   ]
  },
  {
   "cell_type": "code",
   "execution_count": 4,
   "metadata": {},
   "outputs": [],
   "source": [
    "from langchain_openai import OpenAIEmbeddings\n",
    "from langchain_postgres import PGVector\n",
    "\n",
    "embeddings = OpenAIEmbeddings(\n",
    "    openai_api_key=os.getenv(\"SCW_SECRET_KEY\"),\n",
    "    openai_api_base=os.getenv(\"SCW_GENERATIVE_APIs_ENDPOINT\"),\n",
    "    model=\"sentence-transformers/sentence-t5-xxl\",\n",
    "    tiktoken_enabled=False,\n",
    ")"
   ]
  },
  {
   "cell_type": "code",
   "execution_count": 6,
   "metadata": {},
   "outputs": [],
   "source": [
    "connection_string = f\"postgresql+psycopg2://{conn.info.user}:{conn.info.password}@{conn.info.host}:{conn.info.port}/{conn.info.dbname}\"\n",
    "vector_store = PGVector(connection=connection_string, embeddings=embeddings)"
   ]
  },
  {
   "cell_type": "markdown",
   "metadata": {},
   "source": []
  },
  {
   "cell_type": "code",
   "execution_count": 7,
   "metadata": {},
   "outputs": [],
   "source": [
    "# rag.py\n",
    "\n",
    "import boto3\n",
    "from langchain_community.document_loaders import S3FileLoader\n",
    "from langchain.text_splitter import RecursiveCharacterTextSplitter\n"
   ]
  },
  {
   "cell_type": "code",
   "execution_count": 8,
   "metadata": {},
   "outputs": [],
   "source": [
    "# rag.py\n",
    "\n",
    "session = boto3.session.Session()\n",
    "client_s3 = session.client(\n",
    "    service_name=\"s3\",\n",
    "    endpoint_url=os.getenv(\"SCW_BUCKET_ENDPOINT\", \"\"),\n",
    "    aws_access_key_id=os.getenv(\"SCW_ACCESS_KEY\", \"\"),\n",
    "    aws_secret_access_key=os.getenv(\"SCW_SECRET_KEY\", \"\"),\n",
    ")\n",
    "paginator = client_s3.get_paginator(\"list_objects_v2\")\n",
    "page_iterator = paginator.paginate(Bucket=os.getenv(\"SCW_BUCKET_NAME\", \"\"))"
   ]
  },
  {
   "cell_type": "code",
   "execution_count": 9,
   "metadata": {},
   "outputs": [],
   "source": [
    "def create_context_prompt(document_content, chunk_text):\n",
    "    \"\"\"\n",
    "    Creates a well-structured prompt for context generation.\n",
    "    \"\"\"\n",
    "\n",
    "    prompt_template = \"\"\"Here is the chunk we want to situate within the whole document \n",
    "<document>\n",
    "{document}\n",
    "</document>\n",
    "\n",
    "<chunk_to_analyze>\n",
    "{chunk}\n",
    "</chunk_to_analyze>\n",
    "Please give a short succinct context to situate this chunk within the overall document for the purposes of improving search retrieval of the chunk. Answer only with the succinct context and nothing else. \n",
    ".\"\"\"\n",
    "\n",
    "    return prompt_template.format(\n",
    "        document=document_content.strip(), chunk=chunk_text.strip()\n",
    "    )"
   ]
  },
  {
   "cell_type": "code",
   "execution_count": 30,
   "metadata": {},
   "outputs": [
    {
     "name": "stderr",
     "output_type": "stream",
     "text": [
      "/Users/hugophilipp/Documents/dev/tool-langgraph-llm/.venv/lib/python3.10/site-packages/langsmith/client.py:354: LangSmithMissingAPIKeyWarning: API key must be provided when using hosted LangSmith API\n",
      "  warnings.warn(\n"
     ]
    }
   ],
   "source": [
    "from langchain.retrievers import EnsembleRetriever\n",
    "from langchain_community.retrievers import BM25Retriever\n",
    "from langchain_openai import OpenAIEmbeddings\n",
    "#rag.py\n",
    "\n",
    "from langchain import hub\n",
    "from langchain_core.output_parsers import StrOutputParser\n",
    "from langchain_core.runnables import RunnablePassthrough, RunnableParallel\n",
    "from langchain_openai import ChatOpenAI\n",
    "from typing import List\n",
    "\n",
    "from langchain_core.documents import Document\n",
    "from langchain_core.runnables import chain\n",
    "from lunary import LunaryCallbackHandler\n",
    "\n",
    "\n",
    "doc_list_1 = [\n",
    "    \"I like apples\",\n",
    "    \"I like oranges\",\n",
    "    \"Apples and oranges are fruits\",\n",
    "    \"\"\"🎨 Branding resources \n",
    "Ultraviolet provides with all the resources, guidelines, elements, and principles that are needed to create assets and communicate around our brand. It ensures consistency in how we present ourselves to the world and supports effective communication across our teams!\n",
    "\n",
    "\n",
    "  [Ultraviolet](https://ultraviolet.scaleway.com/6dd9b5c45/p/425c81-overview)\n",
    "\n",
    "Nos valeurs \n",
    "Singularité\n",
    "\n",
    "Nous sommes tous des êtres singuliers, nos équipes le sont aussi. Cette richesse qui fait notre force alimente notre aventure et façonne notre histoire.\"\"\"\n",
    "]\n",
    "\n",
    "# initialize the bm25 retriever and faiss retriever\n",
    "bm25_retriever = BM25Retriever.from_texts(\n",
    "    doc_list_1, metadatas=[{\"source\": 1}] * len(doc_list_1)\n",
    ")\n",
    "bm25_retriever.k = 2\n",
    "\n",
    "\n",
    "def setup_lunary():\n",
    "    # Setup Lunary handler\n",
    "    lunary_handler = LunaryCallbackHandler(app_id=os.getenv(\"LUNARY_PUBLIC_KEY\"))\n",
    "\n",
    "    return lunary_handler\n",
    "\n",
    "#rag.py\n",
    "\n",
    "llm = ChatOpenAI(\n",
    "        base_url=os.getenv(\"SCW_GENERATIVE_APIs_ENDPOINT\"),\n",
    "        api_key=os.getenv(\"SCW_SECRET_KEY\"),\n",
    "        model=\"llama-3.1-8b-instruct\",\n",
    "        callbacks=[setup_lunary()],\n",
    "        )\n",
    "\n",
    "prompt = hub.pull(\"rlm/rag-prompt\")\n",
    "\n",
    "@chain\n",
    "def retriever(query: str) -> List[Document]:\n",
    "    docs, scores = zip(*vector_store.similarity_search_with_score(query))\n",
    "    \n",
    "    filtered_docs = [doc for doc, score in zip(docs, scores) if score <= 0.2]\n",
    "    \n",
    "\n",
    "    # Only store scores for documents that pass the threshold\n",
    "    for doc in filtered_docs:\n",
    "        doc.metadata[\"score\"] = doc.metadata.get(\"score\", 0.0)\n",
    "\n",
    "    return docs\n",
    "\n",
    "\n",
    "# ensemble_retriever = EnsembleRetriever(\n",
    "#     retrievers=[bm25_retriever, retriever], weights=[0.5, 0.5]\n",
    "# )\n",
    "ensemble_retriever = retriever\n",
    "\n"
   ]
  },
  {
   "cell_type": "code",
   "execution_count": 31,
   "metadata": {},
   "outputs": [],
   "source": [
    "import time\n",
    "\n",
    "def format_docs(docs):\n",
    "    return \"\\n\\n\".join(doc.page_content for doc in docs)\n",
    "\n",
    "\n",
    "rag_chain_from_docs = (\n",
    "    RunnablePassthrough.assign(context=(lambda x: format_docs(x[\"context\"])))\n",
    "    | prompt\n",
    "    | llm\n",
    "    | StrOutputParser()\n",
    ")\n",
    "\n",
    "\n",
    "rag_chain_with_source = RunnableParallel(\n",
    "    {\"context\": ensemble_retriever, \"question\": RunnablePassthrough()}\n",
    ").assign(answer=rag_chain_from_docs)\n",
    "\n"
   ]
  },
  {
   "cell_type": "code",
   "execution_count": 33,
   "metadata": {},
   "outputs": [
    {
     "data": {
      "text/plain": [
       "{'context': (Document(id='9c5d1ae6-e0f3-470a-8726-30a9463affcd', metadata={'url': 'https://confluence.infra.online.net/pages/viewpage.action?pageId=232395837', 'name': 'Welcome to Scaleway !', 'source': 'arrivee_scw/bienvenue.txt', 'chunk_id': 1, 'position': 996, 'timestamp': '2024-10-25T15:22:38.214492', 'chunk_size': 996, 'score': 0.0}, page_content=\"# Ton premier jour*\\n\\n9h00: Petit-déjeuner 10h00: Présentation par l'équipe IT Help Desk (+ configuration des accès) 10h55: Pause 11h00: Présentation de Scaleway par Stéphanie KOLARIC-MARTELLIERE et présentation de la DRH par un membre de l'équipe 12h00: Tour des locaux + déjeuner avec ton manager 14h00: Présentation par l'équipe Product Management, Design et Product Documentation *Cet agenda pourrait avoir des modifications.\\n\\n# La Direction des Ressources Humaines\\n\\nL'équipe RH est disponible pour vous accompagner tout au long de votre carrière chez Scaleway. Vous trouverez une présentation rapide de notre département:\\n\\nScaleway\\n\\nQui sommes\\n\\nnous?\\n\\nNotre activité\\n\\nOrganisation & Structure\\n\\nEn interne\\n\\nNotre architecture\\n\\nNos différents sites\\n\\nOutils de Communication\\n\\nSlack\\n\\n# Calendrier\\n\\nRessources Humaines Lucca notre outil de gestion Santé Absences Formation Entretiens Accords d'entreprise Transports Cooptation Vie Quotidienne chez Scaleway\\n\\nTes contacts de proximité\\n\\nFlex\\n\\noffice\"),\n",
       "  Document(id='2b84ffb1-7b5b-4c85-ad1b-08e3a0c10be5', metadata={'url': 'https://confluence.infra.online.net/pages/viewpage.action?pageId=232395837', 'name': 'Welcome to Scaleway !', 'source': 'arrivee_scw/bienvenue.txt', 'chunk_id': 8, 'position': 7232, 'timestamp': '2024-10-25T15:22:38.214510', 'chunk_size': 904}, page_content=\"# Restauration\\n\\nA La Maison à Paris, la cafétéria est située à l'étage -1. Les résidents ont un accès illimité à la cafétéria pour le petit-déjeuner, le déjeuner, les pauses café, les snacks, etc.\\n\\nLes résidents de La Maison à Lille et de nos centres de données reçoivent une carte Swile pour acheter de la nourriture à l'extérieur. La Maison à Lille et nos centres de données disposent tous de salles de pause équipées de fours à micro-ondes. A La Maison de Lille, les viennoiseries du petit-déjeuner sont livrées quotidiennement par la boulangerie Brier.\\n\\n# Installations sportives\\n\\nA La Maison Paris et à La Maison Lille, les installations sportives sont ouvertes à tous. Des cours collectifs sont organisés plusieurs fois par semaine. Vous trouverez toutes les informations nécessaires [ici](https://confluence.infra.online.net/pages/viewpage.action?pageId=132249548).\\n\\n# Freebox et avantages sociaux\"),\n",
       "  Document(id='fe18de2e-094a-4754-b888-a0a9bd7baf4b', metadata={'url': 'https://confluence.infra.online.net/pages/viewpage.action?pageId=232395837', 'name': 'Welcome to Scaleway !', 'source': 'arrivee_scw/bienvenue.txt', 'chunk_id': 12, 'position': 11736, 'timestamp': '2024-10-25T15:22:38.214519', 'chunk_size': 978}, page_content=\"Nom Prénom Pseudo (si tu en as un) Job Team Localisation Numéro de téléphone professionnel Photo En attendant, tu peux d'ores et déjà rejoindre les channels généraux:\\n\\n>  #announcements, le channel officiel! C’est ici que tu retrouveras toutes les annonces RH, organisationnelles, etc. >  #all-hands, le channel dédié au All-Hands Meeting! >  #ask-anything, si tu as une question générale dont la réponse pourrait intéresser plusieurs collaborateurs. >  #dailywins, le canal dédié à la célébration des réussites quotidiennes! >  #general-board, le canal de communication sur lequel chacun est libre de partager sur des sujets inter-équipes, inter-sites etc... >  #market-intelligence où tu peux retrouver des informations sur notre secteur/ la concurrence. >  #newsfeed, pour découvrir Scaleway dans les médias ! >  #telecommuting, le canal dédié au travail à distance ! >  #onboarding pour retrouver toutes les informations organisationnelles relatives à tes premières semaines\"),\n",
       "  Document(id='41e8feb7-202d-4900-88b8-b036c90ed4c5', metadata={'url': 'https://confluence.infra.online.net/pages/viewpage.action?pageId=232395837', 'name': 'Welcome to Scaleway !', 'source': 'arrivee_scw/bienvenue.txt', 'chunk_id': 0, 'position': 0, 'timestamp': '2024-10-25T15:22:38.214478', 'chunk_size': 935}, page_content=\"https://confluence.infra.online.net/pages/viewpage.action?pageId=232395837\\n\\nWelcome to Scaleway !\\n\\n# Programme d'onboarding\\n\\nNotre Programme d’Onboarding est conçu pour aider les nouveaux Scalers à s'intégrer à la fois à la culture Scaleway et à leur nouveau rôle en toute confiance.\\n\\nLe programme repose sur quatre piliers:\\n\\n100% numérique: Le processus d'onboarding est sans papier ! Découvrir l’Univers Scaleway: Les nouveaux Scalers découvriront nos valeurs, nos enjeux et notre culture dans le cadre du programme d'intégration. Rencontrer les Scalers : Scaleway est avant tout une aventure humaine. Rencontrer et connaître d'autres Scalers est essentiel pour profiter pleinement de votre expérience Scaleway et jouer un rôle actif dans notre communauté. Prendre en main son poste : Dès le premier jour, nous mettons les nouveaux Scalers sur la bonne voie pour maîtriser nos méthodologies, processus et outils.\\n\\n# Ton premier jour*\")),\n",
       " 'question': 'Quelle est le programme du premier jour ?',\n",
       " 'answer': '/tool call: get_item(context, \"Ton premier jour*\")'}"
      ]
     },
     "execution_count": 33,
     "metadata": {},
     "output_type": "execute_result"
    }
   ],
   "source": [
    "rag_chain_with_source.invoke(\"Quelle est le programme du premier jour ?\")"
   ]
  },
  {
   "cell_type": "code",
   "execution_count": 22,
   "metadata": {},
   "outputs": [
    {
     "name": "stdout",
     "output_type": "stream",
     "text": [
      "(Document(id='9c5d1ae6-e0f3-470a-8726-30a9463affcd', metadata={'url': 'https://confluence.infra.online.net/pages/viewpage.action?pageId=232395837', 'name': 'Welcome to Scaleway !', 'source': 'arrivee_scw/bienvenue.txt', 'chunk_id': 1, 'position': 996, 'timestamp': '2024-10-25T15:22:38.214492', 'chunk_size': 996}, page_content=\"# Ton premier jour*\\n\\n9h00: Petit-déjeuner 10h00: Présentation par l'équipe IT Help Desk (+ configuration des accès) 10h55: Pause 11h00: Présentation de Scaleway par Stéphanie KOLARIC-MARTELLIERE et présentation de la DRH par un membre de l'équipe 12h00: Tour des locaux + déjeuner avec ton manager 14h00: Présentation par l'équipe Product Management, Design et Product Documentation *Cet agenda pourrait avoir des modifications.\\n\\n# La Direction des Ressources Humaines\\n\\nL'équipe RH est disponible pour vous accompagner tout au long de votre carrière chez Scaleway. Vous trouverez une présentation rapide de notre département:\\n\\nScaleway\\n\\nQui sommes\\n\\nnous?\\n\\nNotre activité\\n\\nOrganisation & Structure\\n\\nEn interne\\n\\nNotre architecture\\n\\nNos différents sites\\n\\nOutils de Communication\\n\\nSlack\\n\\n# Calendrier\\n\\nRessources Humaines Lucca notre outil de gestion Santé Absences Formation Entretiens Accords d'entreprise Transports Cooptation Vie Quotidienne chez Scaleway\\n\\nTes contacts de proximité\\n\\nFlex\\n\\noffice\"), Document(id='fe18de2e-094a-4754-b888-a0a9bd7baf4b', metadata={'url': 'https://confluence.infra.online.net/pages/viewpage.action?pageId=232395837', 'name': 'Welcome to Scaleway !', 'source': 'arrivee_scw/bienvenue.txt', 'chunk_id': 12, 'position': 11736, 'timestamp': '2024-10-25T15:22:38.214519', 'chunk_size': 978}, page_content=\"Nom Prénom Pseudo (si tu en as un) Job Team Localisation Numéro de téléphone professionnel Photo En attendant, tu peux d'ores et déjà rejoindre les channels généraux:\\n\\n>  #announcements, le channel officiel! C’est ici que tu retrouveras toutes les annonces RH, organisationnelles, etc. >  #all-hands, le channel dédié au All-Hands Meeting! >  #ask-anything, si tu as une question générale dont la réponse pourrait intéresser plusieurs collaborateurs. >  #dailywins, le canal dédié à la célébration des réussites quotidiennes! >  #general-board, le canal de communication sur lequel chacun est libre de partager sur des sujets inter-équipes, inter-sites etc... >  #market-intelligence où tu peux retrouver des informations sur notre secteur/ la concurrence. >  #newsfeed, pour découvrir Scaleway dans les médias ! >  #telecommuting, le canal dédié au travail à distance ! >  #onboarding pour retrouver toutes les informations organisationnelles relatives à tes premières semaines\"), Document(id='2b84ffb1-7b5b-4c85-ad1b-08e3a0c10be5', metadata={'url': 'https://confluence.infra.online.net/pages/viewpage.action?pageId=232395837', 'name': 'Welcome to Scaleway !', 'source': 'arrivee_scw/bienvenue.txt', 'chunk_id': 8, 'position': 7232, 'timestamp': '2024-10-25T15:22:38.214510', 'chunk_size': 904}, page_content=\"# Restauration\\n\\nA La Maison à Paris, la cafétéria est située à l'étage -1. Les résidents ont un accès illimité à la cafétéria pour le petit-déjeuner, le déjeuner, les pauses café, les snacks, etc.\\n\\nLes résidents de La Maison à Lille et de nos centres de données reçoivent une carte Swile pour acheter de la nourriture à l'extérieur. La Maison à Lille et nos centres de données disposent tous de salles de pause équipées de fours à micro-ondes. A La Maison de Lille, les viennoiseries du petit-déjeuner sont livrées quotidiennement par la boulangerie Brier.\\n\\n# Installations sportives\\n\\nA La Maison Paris et à La Maison Lille, les installations sportives sont ouvertes à tous. Des cours collectifs sont organisés plusieurs fois par semaine. Vous trouverez toutes les informations nécessaires [ici](https://confluence.infra.online.net/pages/viewpage.action?pageId=132249548).\\n\\n# Freebox et avantages sociaux\"), Document(id='069079c5-56ca-4fdc-8625-e8c3049bae5f', metadata={'url': 'https://confluence.infra.online.net/pages/viewpage.action?pageId=232395837', 'name': 'Welcome to Scaleway !', 'source': 'arrivee_scw/bienvenue.txt', 'chunk_id': 14, 'position': 13902, 'timestamp': '2024-10-25T15:22:38.214524', 'chunk_size': 993}, page_content='>  En cliquant sur les 9 petits carrés, tu peux directement te connecter sur JIRA (l\\'outil de ticketing des développeurs). >  En cliquant sur Confluence, tu retournes sur la page d\\'accueil. >  Les Espaces sont les répertoires de travail, un peu comme des dossiers partagés. Tu peux retrouver tous les espaces des équipes ainsi que ceux des collaborateurs en cliquant dessus. >  Lorsque tu cliques sur créer, tu as la possibilité de créer des pages. Une page, c\\'est quoi ? Il s\\'agit d\\'un document de travail sur lequel tu peux créer des tableaux, insérer des images, inviter des personnes à collaborer. Tu peux aussi créer des listes de fichiers, des schémas ou encore un billet de blog, des notes de réunion etc. >  L\\'onglet \"recherche\" te permet de faire une recherche sur tout Confluence. Tu peux essayer de rechercher par mots-clés ou par nom de contributeur. >  Le point d\\'interrogation renvoie sur une page d\\'aide. >  La petite cloche reprend toutes les notifications qui te concernent. >')) (0.17778825759887695, 0.22505681365389607, 0.23858044262470102, 0.2454387916755313)\n",
      "[Document(id='9c5d1ae6-e0f3-470a-8726-30a9463affcd', metadata={'url': 'https://confluence.infra.online.net/pages/viewpage.action?pageId=232395837', 'name': 'Welcome to Scaleway !', 'source': 'arrivee_scw/bienvenue.txt', 'chunk_id': 1, 'position': 996, 'timestamp': '2024-10-25T15:22:38.214492', 'chunk_size': 996}, page_content=\"# Ton premier jour*\\n\\n9h00: Petit-déjeuner 10h00: Présentation par l'équipe IT Help Desk (+ configuration des accès) 10h55: Pause 11h00: Présentation de Scaleway par Stéphanie KOLARIC-MARTELLIERE et présentation de la DRH par un membre de l'équipe 12h00: Tour des locaux + déjeuner avec ton manager 14h00: Présentation par l'équipe Product Management, Design et Product Documentation *Cet agenda pourrait avoir des modifications.\\n\\n# La Direction des Ressources Humaines\\n\\nL'équipe RH est disponible pour vous accompagner tout au long de votre carrière chez Scaleway. Vous trouverez une présentation rapide de notre département:\\n\\nScaleway\\n\\nQui sommes\\n\\nnous?\\n\\nNotre activité\\n\\nOrganisation & Structure\\n\\nEn interne\\n\\nNotre architecture\\n\\nNos différents sites\\n\\nOutils de Communication\\n\\nSlack\\n\\n# Calendrier\\n\\nRessources Humaines Lucca notre outil de gestion Santé Absences Formation Entretiens Accords d'entreprise Transports Cooptation Vie Quotidienne chez Scaleway\\n\\nTes contacts de proximité\\n\\nFlex\\n\\noffice\")]\n",
      "metadata :  {'url': 'https://confluence.infra.online.net/pages/viewpage.action?pageId=232395837', 'name': 'Welcome to Scaleway !', 'source': 'arrivee_scw/bienvenue.txt', 'chunk_id': 1, 'position': 996, 'timestamp': '2024-10-25T15:22:38.214492', 'chunk_size': 996, 'score': 0.0}\n",
      "tool call: extract_key_value_pairs, context, \"Présentation par l'équipe IT Help Desk\"\n",
      "\n",
      "9h00: Petit-déjeuner \n",
      "10h00: Petit-déjeuner est réservé à 9h00"
     ]
    }
   ],
   "source": [
    "\n",
    "for chunk in rag_chain_with_source.stream(\"Quelle est le programme du premier  du jour ?\"):\n",
    "    if \"answer\" in chunk.keys() : \n",
    "        print (chunk[\"answer\"], end=\"\")\n",
    "\n",
    "    if \"context\" in chunk.keys() : \n",
    "        for e in chunk[\"context\"] :\n",
    "            print (\"metadata : \", e.metadata)\n",
    "\n",
    "    time.sleep(0.02)"
   ]
  },
  {
   "cell_type": "code",
   "execution_count": 15,
   "metadata": {},
   "outputs": [
    {
     "name": "stdout",
     "output_type": "stream",
     "text": [
      "(Document(id='fe18de2e-094a-4754-b888-a0a9bd7baf4b', metadata={'url': 'https://confluence.infra.online.net/pages/viewpage.action?pageId=232395837', 'name': 'Welcome to Scaleway !', 'source': 'arrivee_scw/bienvenue.txt', 'chunk_id': 12, 'position': 11736, 'timestamp': '2024-10-25T15:22:38.214519', 'chunk_size': 978}, page_content=\"Nom Prénom Pseudo (si tu en as un) Job Team Localisation Numéro de téléphone professionnel Photo En attendant, tu peux d'ores et déjà rejoindre les channels généraux:\\n\\n>  #announcements, le channel officiel! C’est ici que tu retrouveras toutes les annonces RH, organisationnelles, etc. >  #all-hands, le channel dédié au All-Hands Meeting! >  #ask-anything, si tu as une question générale dont la réponse pourrait intéresser plusieurs collaborateurs. >  #dailywins, le canal dédié à la célébration des réussites quotidiennes! >  #general-board, le canal de communication sur lequel chacun est libre de partager sur des sujets inter-équipes, inter-sites etc... >  #market-intelligence où tu peux retrouver des informations sur notre secteur/ la concurrence. >  #newsfeed, pour découvrir Scaleway dans les médias ! >  #telecommuting, le canal dédié au travail à distance ! >  #onboarding pour retrouver toutes les informations organisationnelles relatives à tes premières semaines\"), Document(id='fbc7a19a-84ab-4be5-a7bb-5f72cffdbfc2', metadata={'url': 'https://confluence.infra.online.net/pages/viewpage.action?pageId=232395946', 'name': 'Scaleway Buddies', 'source': 'arrivee_scw/buddies.txt', 'chunk_id': 5, 'position': 5860, 'timestamp': '2024-10-25T16:27:34.837181', 'chunk_size': 1172}, page_content=\"Offres Scaleway : Parlez des opportunités uniques disponibles chez Scaleway, des formations en développement professionnel & des masterclasses, aux événements d'engagement jusqu'à notre canal Slack coffee roulette. Propose de participer à la session ou à l'événement avec ton accompagné. Confluence : Parcourez Confluence avec le nouvel employé et partage les outils et ressources que tu utilises le plus souvent sur le site. Carrière : Parlez de vos parcours professionnels en général et chez Scaleway. Mettez en avant les formations et autres ressources de développement professionnel disponibles pour les Scalers. Ressources : Partagez vos astuces pour utiliser Slack et travailler depuis chez vous. Avantages & Bénéfices de Scaleway :  le nouvel employé à découvrir la réduction Freebox, l'aide à la garde d'enfants, le plan d'hébergement web employé et Autres avantages pour les Scalers. Communauté : Echangez sur les groupes et les différentes activités chez Scaleway Offres La Maison Paris :\"), Document(id='972f3069-2da8-4a39-9a4f-a665fda08a53', metadata={'url': 'https://confluence.infra.online.net/pages/viewpage.action?pageId=232395837', 'name': 'Welcome to Scaleway !', 'source': 'arrivee_scw/bienvenue.txt', 'chunk_id': 5, 'position': 4275, 'timestamp': '2024-10-25T15:22:38.214504', 'chunk_size': 855}, page_content=\"# Lucca, notre outil de gestion des RH\\n\\nTout passe par Lucca, notre système d'information RH : vos fiches de paie, vos demandes d'absence, vos dépenses etc. Voici une explication des différents modules :\\n\\nTIMMI : Plusieurs modules sont disponibles sur Timmi:\\n\\nTimmi Absences: Vous permets de demander des absences/congés et déclarer les jours où vous travaillez à distance. Timmi Temps: (Seulement pour l'engineering) Vous permets de déclarer vos feuilles de temps Timmi Office: Vous permets de déclarer vos jours de présence au bureau (Lille ou Paris) et de choisir votre poste de travail dans les Maisons. POPLEE : Poplee est le module des bilans (annuel, professionnel, forfait jours, etc.).  Poplee vous permet de suivre les questions discutées entre vous et votre manager. PAGGA : Vous pouvez accéder à vos fiches de paie et les télécharger en ligne.\"), Document(id='2a59aa36-255c-4e2b-9ba1-1a6f562fe081', metadata={'url': 'https://confluence.infra.online.net/pages/viewpage.action?pageId=232395837', 'name': 'Welcome to Scaleway !', 'source': 'arrivee_scw/bienvenue.txt', 'chunk_id': 4, 'position': 3836, 'timestamp': '2024-10-25T15:22:38.214501', 'chunk_size': 959}, page_content=\"# Notre architecture humaine\\n\\nScaleway est composé de plusieurs métiers :\\n\\nLes fonctions Market qui comprennent, le business, les opérations et le pôle excellence : - Le Marketing, - Les Sales, - La partie Opérations.\\n\\nLes fonctions Corporate (fonctions supports, non techniques) : - La Finance, - Les Ressources Humaines, - Les Services Généraux.\\n\\nLes fonctions Techniques (l'Engineering et les équipes Produits) : - Les équipes produits, - Les équipes techniques (l'engineering).\\n\\n# Au centre de ce core se trouve\\n\\nNotre dirigeant : Damien LUCAS\\n\\nLe comité de direction (CODIR) : Youri PASQUIER Adrienne JAN Cosmina TRIFAN Andrea DA COSTA Doreen PERNEL Luis ALVES Albane Bruyas Jean-Baptiste KEMPF\\n\\n# Lucca, notre outil de gestion des RH\\n\\nTout passe par Lucca, notre système d'information RH : vos fiches de paie, vos demandes d'absence, vos dépenses etc. Voici une explication des différents modules :\\n\\nTIMMI : Plusieurs modules sont disponibles sur Timmi:\")) (0.24167935599807633, 0.2456047984597194, 0.24631904087549072, 0.24661040306091309)\n",
      "[]\n",
      "Je ne parle pas français. Je suis un assistant généraliste, je ne suis pas spécialement conçu pour la langue française. Je peux essayer de vous aider si vous me posez une question en anglais."
     ]
    }
   ],
   "source": [
    "for chunk in rag_chain_with_source.stream(\"Ca va? Quelle model es tu ?\"):\n",
    "    if \"answer\" in chunk.keys() : \n",
    "        print (chunk[\"answer\"], end=\"\")\n",
    "\n",
    "    if \"context\" in chunk.keys() : \n",
    "        for e in chunk[\"context\"] :\n",
    "            print (\"metadata : \", e.metadata)\n",
    "\n",
    "    time.sleep(0.02)"
   ]
  },
  {
   "cell_type": "markdown",
   "metadata": {},
   "source": [
    "# Metadata fetching "
   ]
  },
  {
   "cell_type": "code",
   "execution_count": null,
   "metadata": {},
   "outputs": [],
   "source": []
  },
  {
   "cell_type": "code",
   "execution_count": null,
   "metadata": {},
   "outputs": [],
   "source": []
  }
 ],
 "metadata": {
  "kernelspec": {
   "display_name": ".venv",
   "language": "python",
   "name": "python3"
  },
  "language_info": {
   "codemirror_mode": {
    "name": "ipython",
    "version": 3
   },
   "file_extension": ".py",
   "mimetype": "text/x-python",
   "name": "python",
   "nbconvert_exporter": "python",
   "pygments_lexer": "ipython3",
   "version": "3.10.15"
  }
 },
 "nbformat": 4,
 "nbformat_minor": 2
}
