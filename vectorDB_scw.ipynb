{
 "cells": [
  {
   "cell_type": "code",
   "execution_count": null,
   "metadata": {},
   "outputs": [],
   "source": [
    "!pip3 install langchain_postgres langchain psycopg2 python-dotenv langchainhub boto3 unstructured transformers\n"
   ]
  },
  {
   "cell_type": "code",
   "execution_count": 58,
   "metadata": {},
   "outputs": [],
   "source": [
    "# rag.py file\n",
    "\n",
    "from dotenv import load_dotenv\n",
    "import psycopg2\n",
    "import os\n",
    "\n",
    "# Load environment variables\n",
    "load_dotenv()\n",
    "\n",
    "# Establish connection to PostgreSQL database using environment variables\n",
    "conn = psycopg2.connect(\n",
    "       database=os.getenv(\"SCW_DB_NAME\"),\n",
    "       user=os.getenv(\"SCW_DB_USER\"),\n",
    "       password=os.getenv(\"SCW_DB_PASSWORD\"),\n",
    "       host=os.getenv(\"SCW_DB_HOST\"),\n",
    "       port=os.getenv(\"SCW_DB_PORT\")\n",
    "   )\n",
    "\n",
    "# Create a cursor to execute SQL commands\n",
    "cur = conn.cursor()"
   ]
  },
  {
   "cell_type": "code",
   "execution_count": 59,
   "metadata": {},
   "outputs": [],
   "source": [
    "# rag.py\n",
    "\n",
    "from langchain_openai import OpenAIEmbeddings\n",
    "from langchain_postgres import PGVector"
   ]
  },
  {
   "cell_type": "code",
   "execution_count": 60,
   "metadata": {},
   "outputs": [],
   "source": [
    "# rag.py\n",
    "\n",
    "embeddings = OpenAIEmbeddings(\n",
    "                openai_api_key=os.getenv(\"SCW_SECRET_KEY\"),\n",
    "                openai_api_base=os.getenv(\"SCW_GENERATIVE_APIs_ENDPOINT\"),\n",
    "                model=\"sentence-transformers/sentence-t5-xxl\",\n",
    "                tiktoken_enabled=False\n",
    "            )"
   ]
  },
  {
   "cell_type": "code",
   "execution_count": 61,
   "metadata": {},
   "outputs": [],
   "source": [
    "# rag.py\n",
    "\n",
    "connection_string = f\"postgresql+psycopg2://{conn.info.user}:{conn.info.password}@{conn.info.host}:{conn.info.port}/{conn.info.dbname}\"\n",
    "vector_store = PGVector(connection=connection_string, embeddings=embeddings)"
   ]
  },
  {
   "cell_type": "code",
   "execution_count": 62,
   "metadata": {},
   "outputs": [],
   "source": [
    "#rag.py\n",
    "\n",
    "import boto3\n",
    "from langchain_community.document_loaders import S3FileLoader\n",
    "from langchain.text_splitter import RecursiveCharacterTextSplitter\n"
   ]
  },
  {
   "cell_type": "code",
   "execution_count": 63,
   "metadata": {},
   "outputs": [],
   "source": [
    "# rag.py\n",
    "\n",
    "session = boto3.session.Session()\n",
    "client_s3 = session.client(service_name='s3', endpoint_url=os.getenv(\"SCW_BUCKET_ENDPOINT\", \"\"),\n",
    "                               aws_access_key_id=os.getenv(\"SCW_ACCESS_KEY\", \"\"),\n",
    "                               aws_secret_access_key=os.getenv(\"SCW_SECRET_KEY\", \"\"))\n",
    "paginator = client_s3.get_paginator('list_objects_v2')\n",
    "page_iterator = paginator.paginate(Bucket=os.getenv(\"SCW_BUCKET_NAME\", \"\"))"
   ]
  },
  {
   "cell_type": "code",
   "execution_count": 64,
   "metadata": {},
   "outputs": [
    {
     "name": "stdout",
     "output_type": "stream",
     "text": [
      "arrivee_scw/bienvenue.txt\n",
      "arrivee_scw/buddies.txt\n",
      "arrivee_scw/reglements.txt\n",
      "carriere/entretiens.txt\n",
      "carriere/formation.txt\n",
      "carriere/mobilite.txt\n",
      "carriere/relation_manager.txt\n",
      "carriere/talent_review.txt\n",
      "dialogue_social/accord_entreprise.txt\n",
      "An error occurred: (psycopg2.errors.NotNullViolation) null value in column \"id\" of relation \"langchain_pg_embedding\" violates not-null constraint\n",
      "DETAIL:  Failing row contains (null, null, null, null, null).\n",
      "\n",
      "[SQL: INSERT INTO langchain_pg_embedding DEFAULT VALUES ON CONFLICT (id) DO UPDATE SET embedding = excluded.embedding, document = excluded.document, cmetadata = excluded.cmetadata]\n",
      "(Background on this error at: https://sqlalche.me/e/20/gkpj)\n",
      "dialogue_social/cse.txt\n",
      "dialogue_social/doc_legal.txt\n",
      "engagements/comm_interne.txt\n",
      "engagements/marque_employeur.txt\n",
      "engagements/rse.txt\n",
      "quotidien/avantage.txt\n",
      "quotidien/conges.txt\n",
      "quotidien/contact.txt\n",
      "quotidien/frais.txt\n",
      "quotidien/maison.txt\n",
      "quotidien/oranisation_travail.txt\n",
      "quotidien/outils_hr.txt\n",
      "quotidien/referral_program.txt\n",
      "quotidien/remuneration.txt\n",
      "quotidien/sante_travail.txt\n",
      "stage_alternance/alternance.txt\n",
      "stage_alternance/stage.txt\n",
      "test.txt\n"
     ]
    }
   ],
   "source": [
    "# rag.py\n",
    "\n",
    "text_splitter = RecursiveCharacterTextSplitter(chunk_size=500, chunk_overlap=0, add_start_index=True, length_function=len, is_separator_regex=False)\n",
    "for page in page_iterator:\n",
    "    for obj in page.get('Contents', []):\n",
    "        print (obj['Key'])\n",
    "        cur.execute(\"SELECT object_key FROM object_loaded WHERE object_key = %s\", (obj['Key'],))\n",
    "        response = cur.fetchone()\n",
    "        if response is None:\n",
    "\n",
    "            file_loader = S3FileLoader(\n",
    "                    bucket=os.getenv(\"SCW_BUCKET_NAME\", \"\"),\n",
    "                    key=obj['Key'],\n",
    "                    endpoint_url=os.getenv(\"SCW_BUCKET_ENDPOINT\", \"\"),\n",
    "                    aws_access_key_id=os.getenv(\"SCW_ACCESS_KEY\", \"\"),\n",
    "                    aws_secret_access_key=os.getenv(\"SCW_SECRET_KEY\", \"\")\n",
    "                )\n",
    "            file_to_load = file_loader.load()\n",
    "            cur.execute(\"INSERT INTO object_loaded (object_key) VALUES (%s)\", (obj['Key'],))\n",
    "            chunks = text_splitter.split_text(file_to_load[0].page_content)\n",
    "            try:\n",
    "                embeddings_list = [embeddings.embed_query(chunk) for chunk in chunks]\n",
    "                vector_store.add_embeddings(chunks, embeddings_list)\n",
    "                cur.execute(\"INSERT INTO object_loaded (object_key) VALUES (%s)\", (obj['Key'],))\n",
    "            except Exception as e:\n",
    "                print(f\"An error occurred: {e}\")\n",
    "\n",
    "conn.commit()"
   ]
  },
  {
   "cell_type": "code",
   "execution_count": 52,
   "metadata": {},
   "outputs": [],
   "source": [
    "#rag.py\n",
    "\n",
    "from langchain import hub\n",
    "from langchain_core.output_parsers import StrOutputParser\n",
    "from langchain_core.runnables import RunnablePassthrough\n",
    "from langchain_openai import ChatOpenAI\n"
   ]
  },
  {
   "cell_type": "code",
   "execution_count": 54,
   "metadata": {},
   "outputs": [
    {
     "name": "stderr",
     "output_type": "stream",
     "text": [
      "/Users/hugophilipp/Documents/dev/tool-langgraph-llm/.venv/lib/python3.10/site-packages/langsmith/client.py:354: LangSmithMissingAPIKeyWarning: API key must be provided when using hosted LangSmith API\n",
      "  warnings.warn(\n"
     ]
    },
    {
     "name": "stdout",
     "output_type": "stream",
     "text": [
      "Je n'ai pas trouvé d'information spécifique sur la politique RSE (Responsabilité Sociale des Entreprises) de Scaleway dans le contexte fourni."
     ]
    }
   ],
   "source": [
    "#rag.py\n",
    "\n",
    "llm = ChatOpenAI(\n",
    "        base_url=os.getenv(\"SCW_GENERATIVE_APIs_ENDPOINT\"),\n",
    "        api_key=os.getenv(\"SCW_SECRET_KEY\"),\n",
    "        model=\"llama-3.1-8b-instruct\",\n",
    "        )\n",
    "\n",
    "prompt = hub.pull(\"rlm/rag-prompt\")\n",
    "retriever = vector_store.as_retriever()\n",
    "\n",
    "\n",
    "rag_chain = (\n",
    "        {\"context\": retriever, \"question\": RunnablePassthrough()}\n",
    "        | prompt\n",
    "        | llm\n",
    "        | StrOutputParser()\n",
    "    )\n",
    "\n",
    "for r in rag_chain.stream(\"Quelle est la politique RSE de scaleway?\"):\n",
    "    print(r, end=\"\", flush=True)"
   ]
  },
  {
   "cell_type": "markdown",
   "metadata": {},
   "source": [
    "arrivee_scw/bienvenue.txt\n",
    " \n",
    "arrivee_scw/buddies.txt\n",
    "\n",
    "arrivee_scw/reglements.txt\n",
    "\n",
    "bienvenue.txt\n",
    "\n",
    "carriere/entretiens.txt\n",
    "\n",
    "carriere/formation.txt\n",
    "\n",
    "carriere/mobilite.txt\n",
    "\n",
    "carriere/relation_manager.txt\n",
    "\n",
    "carriere/talent_review.txt\n",
    "\n",
    "dialogue_social/accord_entreprise.txt\n",
    "\n",
    "An error occurred: (psycopg2.errors.NotNullViolation) null value in column \"id\" of relation \"langchain_pg_embedding\" violates not-null constraint\n",
    "DETAIL:  Failing row contains (null, null, null, null, null).\n",
    "\n",
    "[SQL: INSERT INTO langchain_pg_embedding DEFAULT VALUES ON CONFLICT (id) DO UPDATE SET embedding = excluded.embedding, document = excluded.document, cmetadata = excluded.cmetadata]\n",
    "(Background on this error at: https://sqlalche.me/e/20/gkpj)\n",
    "\n",
    "dialogue_social/cse.txt\n",
    "\n",
    "dialogue_social/doc_legal.txt\n",
    "\n",
    "engagements/comm_interne.txt\n",
    "\n",
    "engagements/marque_employeur.txt\n",
    "\n",
    "engagements/rse.txt\n",
    "\n",
    "quotidien/avantage.txt"
   ]
  },
  {
   "cell_type": "code",
   "execution_count": null,
   "metadata": {},
   "outputs": [],
   "source": []
  },
  {
   "cell_type": "code",
   "execution_count": 1,
   "metadata": {},
   "outputs": [
    {
     "name": "stdout",
     "output_type": "stream",
     "text": [
      "Successfully uploaded data_context/test.txt to rag-poc-1/test.txt\n",
      "Successfully uploaded data_context/dialogue_social/accord_entreprise.txt to rag-poc-1/dialogue_social/accord_entreprise.txt\n",
      "Successfully uploaded data_context/dialogue_social/cse.txt to rag-poc-1/dialogue_social/cse.txt\n",
      "Successfully uploaded data_context/dialogue_social/doc_legal.txt to rag-poc-1/dialogue_social/doc_legal.txt\n",
      "Successfully uploaded data_context/engagements/comm_interne.txt to rag-poc-1/engagements/comm_interne.txt\n",
      "Successfully uploaded data_context/engagements/rse.txt to rag-poc-1/engagements/rse.txt\n",
      "Successfully uploaded data_context/engagements/marque_employeur.txt to rag-poc-1/engagements/marque_employeur.txt\n",
      "Successfully uploaded data_context/carriere/entretiens.txt to rag-poc-1/carriere/entretiens.txt\n",
      "Successfully uploaded data_context/carriere/mobilite.txt to rag-poc-1/carriere/mobilite.txt\n",
      "Successfully uploaded data_context/carriere/formation.txt to rag-poc-1/carriere/formation.txt\n",
      "Successfully uploaded data_context/carriere/talent_review.txt to rag-poc-1/carriere/talent_review.txt\n",
      "Successfully uploaded data_context/carriere/relation_manager.txt to rag-poc-1/carriere/relation_manager.txt\n",
      "Successfully uploaded data_context/arrivee_scw/buddies.txt to rag-poc-1/arrivee_scw/buddies.txt\n",
      "Successfully uploaded data_context/arrivee_scw/bienvenue.txt to rag-poc-1/arrivee_scw/bienvenue.txt\n",
      "Successfully uploaded data_context/arrivee_scw/reglements.txt to rag-poc-1/arrivee_scw/reglements.txt\n",
      "Successfully uploaded data_context/quotidien/frais.txt to rag-poc-1/quotidien/frais.txt\n",
      "Successfully uploaded data_context/quotidien/avantage.txt to rag-poc-1/quotidien/avantage.txt\n",
      "Successfully uploaded data_context/quotidien/contact.txt to rag-poc-1/quotidien/contact.txt\n",
      "Successfully uploaded data_context/quotidien/conges.txt to rag-poc-1/quotidien/conges.txt\n",
      "Successfully uploaded data_context/quotidien/oranisation_travail.txt to rag-poc-1/quotidien/oranisation_travail.txt\n",
      "Successfully uploaded data_context/quotidien/referral_program.txt to rag-poc-1/quotidien/referral_program.txt\n",
      "Successfully uploaded data_context/quotidien/maison.txt to rag-poc-1/quotidien/maison.txt\n",
      "Successfully uploaded data_context/quotidien/sante_travail.txt to rag-poc-1/quotidien/sante_travail.txt\n",
      "Successfully uploaded data_context/quotidien/remuneration.txt to rag-poc-1/quotidien/remuneration.txt\n",
      "Successfully uploaded data_context/quotidien/outils_hr.txt to rag-poc-1/quotidien/outils_hr.txt\n",
      "Successfully uploaded data_context/stage_alternance/alternance.txt to rag-poc-1/stage_alternance/alternance.txt\n",
      "Successfully uploaded data_context/stage_alternance/stage.txt to rag-poc-1/stage_alternance/stage.txt\n"
     ]
    }
   ],
   "source": [
    "import os\n",
    "import boto3\n",
    "\n",
    "# Initialize the S3 client\n",
    "session = boto3.session.Session()\n",
    "client_s3 = session.client(\n",
    "    service_name='s3',\n",
    "    endpoint_url=os.getenv(\"SCW_BUCKET_ENDPOINT\", \"\"),\n",
    "    aws_access_key_id=os.getenv(\"SCW_ACCESS_KEY\", \"\"),\n",
    "    aws_secret_access_key=os.getenv(\"SCW_SECRET_KEY\", \"\")\n",
    ")\n",
    "\n",
    "# Define the local folder and S3 bucket name\n",
    "local_folder = 'data_context'\n",
    "\n",
    "# Walk through all files in the folder and upload them to S3\n",
    "for root, dirs, files in os.walk(local_folder):\n",
    "    for file in files:\n",
    "        file_path = os.path.join(root, file)\n",
    "        s3_key = os.path.relpath(file_path, local_folder)  # S3 object key\n",
    "        \n",
    "        try:\n",
    "            client_s3.upload_file(file_path, os.getenv(\"SCW_BUCKET_NAME\", \"\"), s3_key)\n",
    "            print(f'Successfully uploaded {file_path} to {os.getenv(\"SCW_BUCKET_NAME\", \"\")}/{s3_key}')\n",
    "        except Exception as e:\n",
    "            print(f'Failed to upload {file_path}. Error: {str(e)}')\n"
   ]
  },
  {
   "cell_type": "code",
   "execution_count": null,
   "metadata": {},
   "outputs": [],
   "source": []
  }
 ],
 "metadata": {
  "kernelspec": {
   "display_name": ".venv",
   "language": "python",
   "name": "python3"
  },
  "language_info": {
   "codemirror_mode": {
    "name": "ipython",
    "version": 3
   },
   "file_extension": ".py",
   "mimetype": "text/x-python",
   "name": "python",
   "nbconvert_exporter": "python",
   "pygments_lexer": "ipython3",
   "version": "3.10.15"
  }
 },
 "nbformat": 4,
 "nbformat_minor": 2
}
