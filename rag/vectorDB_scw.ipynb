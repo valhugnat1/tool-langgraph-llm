{
 "cells": [
  {
   "cell_type": "code",
   "execution_count": null,
   "metadata": {},
   "outputs": [],
   "source": [
    "!pip3 install langchain_postgres langchain psycopg2 python-dotenv langchainhub boto3 unstructured transformers\n"
   ]
  },
  {
   "cell_type": "code",
   "execution_count": 29,
   "metadata": {},
   "outputs": [],
   "source": [
    "# rag.py file\n",
    "\n",
    "from dotenv import load_dotenv\n",
    "import psycopg2\n",
    "import os\n",
    "\n",
    "# Load environment variables\n",
    "load_dotenv()\n",
    "\n",
    "# Establish connection to PostgreSQL database using environment variables\n",
    "conn = psycopg2.connect(\n",
    "       database=os.getenv(\"SCW_DB_NAME\"),\n",
    "       user=os.getenv(\"SCW_DB_USER\"),\n",
    "       password=os.getenv(\"SCW_DB_PASSWORD\"),\n",
    "       host=os.getenv(\"SCW_DB_HOST\"),\n",
    "       port=os.getenv(\"SCW_DB_PORT\")\n",
    "   )\n",
    "\n",
    "# Create a cursor to execute SQL commands\n",
    "cur = conn.cursor()"
   ]
  },
  {
   "cell_type": "code",
   "execution_count": 30,
   "metadata": {},
   "outputs": [],
   "source": [
    "# rag.py\n",
    "\n",
    "from langchain_openai import OpenAIEmbeddings\n",
    "from langchain_postgres import PGVector"
   ]
  },
  {
   "cell_type": "code",
   "execution_count": 31,
   "metadata": {},
   "outputs": [],
   "source": [
    "# rag.py\n",
    "\n",
    "embeddings = OpenAIEmbeddings(\n",
    "                openai_api_key=os.getenv(\"SCW_SECRET_KEY\"),\n",
    "                openai_api_base=os.getenv(\"SCW_GENERATIVE_APIs_ENDPOINT\"),\n",
    "                model=\"sentence-transformers/sentence-t5-xxl\",\n",
    "                tiktoken_enabled=False\n",
    "            )"
   ]
  },
  {
   "cell_type": "code",
   "execution_count": 32,
   "metadata": {},
   "outputs": [],
   "source": [
    "# rag.py\n",
    "\n",
    "connection_string = f\"postgresql+psycopg2://{conn.info.user}:{conn.info.password}@{conn.info.host}:{conn.info.port}/{conn.info.dbname}\"\n",
    "vector_store = PGVector(connection=connection_string, embeddings=embeddings)"
   ]
  },
  {
   "cell_type": "code",
   "execution_count": 33,
   "metadata": {},
   "outputs": [],
   "source": [
    "#rag.py\n",
    "\n",
    "import boto3\n",
    "from langchain_community.document_loaders import S3FileLoader\n",
    "from langchain.text_splitter import RecursiveCharacterTextSplitter\n"
   ]
  },
  {
   "cell_type": "code",
   "execution_count": 34,
   "metadata": {},
   "outputs": [],
   "source": [
    "# rag.py\n",
    "\n",
    "session = boto3.session.Session()\n",
    "client_s3 = session.client(service_name='s3', endpoint_url=os.getenv(\"SCW_BUCKET_ENDPOINT\", \"\"),\n",
    "                               aws_access_key_id=os.getenv(\"SCW_ACCESS_KEY\", \"\"),\n",
    "                               aws_secret_access_key=os.getenv(\"SCW_SECRET_KEY\", \"\"))\n",
    "paginator = client_s3.get_paginator('list_objects_v2')\n",
    "page_iterator = paginator.paginate(Bucket=os.getenv(\"SCW_BUCKET_NAME\", \"\"))"
   ]
  },
  {
   "cell_type": "code",
   "execution_count": 35,
   "metadata": {},
   "outputs": [
    {
     "name": "stdout",
     "output_type": "stream",
     "text": [
      "bienvenue.txt\n"
     ]
    },
    {
     "name": "stderr",
     "output_type": "stream",
     "text": [
      "huggingface/tokenizers: The current process just got forked, after parallelism has already been used. Disabling parallelism to avoid deadlocks...\n",
      "To disable this warning, you can either:\n",
      "\t- Avoid using `tokenizers` before the fork if possible\n",
      "\t- Explicitly set the environment variable TOKENIZERS_PARALLELISM=(true | false)\n"
     ]
    },
    {
     "name": "stdout",
     "output_type": "stream",
     "text": [
      "test.txt\n"
     ]
    }
   ],
   "source": [
    "# rag.py\n",
    "\n",
    "text_splitter = RecursiveCharacterTextSplitter(chunk_size=500, chunk_overlap=0, add_start_index=True, length_function=len, is_separator_regex=False)\n",
    "for page in page_iterator:\n",
    "    for obj in page.get('Contents', []):\n",
    "        print (obj['Key'])\n",
    "        cur.execute(\"SELECT object_key FROM object_loaded WHERE object_key = %s\", (obj['Key'],))\n",
    "        response = cur.fetchone()\n",
    "        if response is None:\n",
    "\n",
    "            file_loader = S3FileLoader(\n",
    "                    bucket=os.getenv(\"SCW_BUCKET_NAME\", \"\"),\n",
    "                    key=obj['Key'],\n",
    "                    endpoint_url=os.getenv(\"SCW_BUCKET_ENDPOINT\", \"\"),\n",
    "                    aws_access_key_id=os.getenv(\"SCW_ACCESS_KEY\", \"\"),\n",
    "                    aws_secret_access_key=os.getenv(\"SCW_SECRET_KEY\", \"\")\n",
    "                )\n",
    "            file_to_load = file_loader.load()\n",
    "            cur.execute(\"INSERT INTO object_loaded (object_key) VALUES (%s)\", (obj['Key'],))\n",
    "            chunks = text_splitter.split_text(file_to_load[0].page_content)\n",
    "            try:\n",
    "                embeddings_list = [embeddings.embed_query(chunk) for chunk in chunks]\n",
    "                vector_store.add_embeddings(chunks, embeddings_list)\n",
    "                cur.execute(\"INSERT INTO object_loaded (object_key) VALUES (%s)\", (obj['Key'],))\n",
    "            except Exception as e:\n",
    "                print(f\"An error occurred: {e}\")\n",
    "\n",
    "conn.commit()"
   ]
  },
  {
   "cell_type": "code",
   "execution_count": 36,
   "metadata": {},
   "outputs": [],
   "source": [
    "#rag.py\n",
    "\n",
    "from langchain import hub\n",
    "from langchain_core.output_parsers import StrOutputParser\n",
    "from langchain_core.runnables import RunnablePassthrough\n",
    "from langchain_openai import ChatOpenAI\n"
   ]
  },
  {
   "cell_type": "code",
   "execution_count": 43,
   "metadata": {},
   "outputs": [
    {
     "name": "stderr",
     "output_type": "stream",
     "text": [
      "/Users/hugophilipp/Documents/dev/tool-langgraph-llm/.venv/lib/python3.10/site-packages/langsmith/client.py:354: LangSmithMissingAPIKeyWarning: API key must be provided when using hosted LangSmith API\n",
      "  warnings.warn(\n"
     ]
    },
    {
     "name": "stdout",
     "output_type": "stream",
     "text": [
      "Je ne vois pas clairement dans le texte qui tu es. Cependant, il y a un document qui mentionne \"Qui sommes nous?\" mais sans donner plus d'informations sur la question."
     ]
    }
   ],
   "source": [
    "#rag.py\n",
    "\n",
    "llm = ChatOpenAI(\n",
    "        base_url=os.getenv(\"SCW_GENERATIVE_APIs_ENDPOINT\"),\n",
    "        api_key=os.getenv(\"SCW_SECRET_KEY\"),\n",
    "        model=\"llama-3.1-8b-instruct\",\n",
    "        )\n",
    "\n",
    "prompt = hub.pull(\"rlm/rag-prompt\")\n",
    "retriever = vector_store.as_retriever()\n",
    "\n",
    "\n",
    "rag_chain = (\n",
    "        {\"context\": retriever, \"question\": RunnablePassthrough()}\n",
    "        | prompt\n",
    "        | llm\n",
    "        | StrOutputParser()\n",
    "    )\n",
    "\n",
    "for r in rag_chain.stream(\"Qui es tu ?\"):\n",
    "    print(r, end=\"\", flush=True)"
   ]
  },
  {
   "cell_type": "code",
   "execution_count": null,
   "metadata": {},
   "outputs": [],
   "source": []
  },
  {
   "cell_type": "code",
   "execution_count": null,
   "metadata": {},
   "outputs": [],
   "source": [
    "\n",
    "connection_string = f\"postgresql+psycopg2://{conn.info.user}:{conn.info.password}@{conn.info.host}:{conn.info.port}/{conn.info.dbname}\"\n",
    "vector_store = PGVector(connection=connection_string, embeddings=embeddings)\n",
    "retriever = vector_store.as_retriever()\n"
   ]
  }
 ],
 "metadata": {
  "kernelspec": {
   "display_name": ".venv",
   "language": "python",
   "name": "python3"
  },
  "language_info": {
   "codemirror_mode": {
    "name": "ipython",
    "version": 3
   },
   "file_extension": ".py",
   "mimetype": "text/x-python",
   "name": "python",
   "nbconvert_exporter": "python",
   "pygments_lexer": "ipython3",
   "version": "3.10.15"
  }
 },
 "nbformat": 4,
 "nbformat_minor": 2
}
